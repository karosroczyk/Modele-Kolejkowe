{
  "nbformat": 4,
  "nbformat_minor": 0,
  "metadata": {
    "kernelspec": {
      "display_name": "Python 3",
      "language": "python",
      "name": "python3"
    },
    "language_info": {
      "codemirror_mode": {
        "name": "ipython",
        "version": 3
      },
      "file_extension": ".py",
      "mimetype": "text/x-python",
      "name": "python",
      "nbconvert_exporter": "python",
      "pygments_lexer": "ipython3",
      "version": "3.7.4"
    },
    "colab": {
      "name": "Siec_kolejkowa.ipynb",
      "provenance": []
    }
  },
  "cells": [
    {
      "cell_type": "code",
      "metadata": {
        "id": "uRXe1yXtVwi_",
        "colab": {
          "base_uri": "https://localhost:8080/"
        },
        "outputId": "b57faf16-0e56-4743-ab3f-d4f7dee063a6"
      },
      "source": [
        "!pip install geneticalgorithm\n",
        "\n",
        "import numpy as np\n",
        "from IPython.display import Image\n",
        "import math\n",
        "from numpy import random\n",
        "from geneticalgorithm import geneticalgorithm as ga"
      ],
      "execution_count": 1343,
      "outputs": [
        {
          "output_type": "stream",
          "text": [
            "Requirement already satisfied: geneticalgorithm in /usr/local/lib/python3.6/dist-packages (1.0.2)\n",
            "Requirement already satisfied: func-timeout in /usr/local/lib/python3.6/dist-packages (from geneticalgorithm) (4.3.5)\n",
            "Requirement already satisfied: numpy in /usr/local/lib/python3.6/dist-packages (from geneticalgorithm) (1.19.5)\n"
          ],
          "name": "stdout"
        }
      ]
    },
    {
      "cell_type": "markdown",
      "metadata": {
        "id": "ROnTIyd5ILMW"
      },
      "source": [
        "**Parametry wejściowe**"
      ]
    },
    {
      "cell_type": "code",
      "metadata": {
        "id": "6EHIa7IKVwjB"
      },
      "source": [
        "R = 4 # liczba klas\n",
        "N = 6 # liczba systemów"
      ],
      "execution_count": 1344,
      "outputs": []
    },
    {
      "cell_type": "code",
      "metadata": {
        "id": "RkOwt-bmVwjB"
      },
      "source": [
        "# lambda_0 dla każdej klasy\n",
        "lambda_0 = [50, 100, 100, 100]"
      ],
      "execution_count": 1345,
      "outputs": []
    },
    {
      "cell_type": "code",
      "metadata": {
        "id": "8jt1BrvGVwjC"
      },
      "source": [
        "# macierze prawdopodobieństwa dla klas\n",
        "\n",
        "#p1 = np.load('matrixy/p1.npy')\n",
        "#p2 = np.load('matrixy/p2.npy')\n",
        "#p3 = np.load('matrixy/p3.npy')\n",
        "#p4 = np.load('matrixy/p4.npy')\n",
        "\n",
        "p1 = np.array(\n",
        "      [[0., 1., 0., 0., 0., 0.],\n",
        "       [0., 0., 0., 0., 0., 0.],\n",
        "       [0., 0., 0., 0., 0., 0.],\n",
        "       [0., 0., 0., 0., 0., 0.],\n",
        "       [0., 0., 0., 0., 0., 0.],\n",
        "       [0., 0., 0., 0., 0., 0.]])\n",
        "p2 = np.array(\n",
        "      [[0., 0., 1., 0., 0., 0.],\n",
        "       [0., 0., 0., 0., 0., 0.],\n",
        "       [0., 0., 0., 1., 0., 0.],\n",
        "       [0., 0., 0., 0., 0., 0.],\n",
        "       [0., 0., 0., 0., 0., 0.],\n",
        "       [0., 0., 0., 0., 0., 0.]])\n",
        "p3 = np.array(\n",
        "      [[0., 0., 1., 0., 0., 0.],\n",
        "       [0., 0., 0., 0., 0., 0.],\n",
        "       [0., 0., 0., 0., 1., 0.],\n",
        "       [0., 0., 0., 0., 0., 0.],\n",
        "       [0., 0., 0., 0., 0., 0.],\n",
        "       [0., 0., 0., 0., 0., 0.]])\n",
        "p4 = np.array(\n",
        "      [[0., 0., 1., 0., 0., 0.],\n",
        "       [0., 0., 0., 0., 0., 0.],\n",
        "       [0., 0., 0., 0., 0., 1.],\n",
        "       [0., 0., 0., 0., 0., 0.],\n",
        "       [0., 0., 0., 0., 0., 0.],\n",
        "       [0., 0., 0., 0., 0., 0.]])"
      ],
      "execution_count": 1346,
      "outputs": []
    },
    {
      "cell_type": "code",
      "metadata": {
        "id": "BY_x-6F7VwjC"
      },
      "source": [
        "p = [p1, p2, p3, p4]"
      ],
      "execution_count": 1347,
      "outputs": []
    },
    {
      "cell_type": "code",
      "metadata": {
        "id": "-tX29Aj5Jz_Z"
      },
      "source": [
        "#czasy obsługi\r\n",
        "\r\n",
        "#mi = np.load('matrixy/mi.npy')\r\n",
        "mi = np.array([[160  , 110  , 170 , 140 ],\r\n",
        "       [ 120 , 110  , 110 , 110 ],\r\n",
        "       [160  , 110  , 170 , 140 ],\r\n",
        "       [110  , 150  , 110 , 110 ],\r\n",
        "       [110  , 110  , 130 , 110 ],\r\n",
        "       [110  , 110  , 110 , 130 ]])"
      ],
      "execution_count": 1348,
      "outputs": []
    },
    {
      "cell_type": "code",
      "metadata": {
        "id": "aod4BdSuJ2pZ"
      },
      "source": [
        "# kanały obsługi\r\n",
        "m_pocz = [1, 2, 4, 1, 2, 1]"
      ],
      "execution_count": 1349,
      "outputs": []
    },
    {
      "cell_type": "markdown",
      "metadata": {
        "id": "zqs0KWLmKZn-"
      },
      "source": [
        "**Obiczanie lambda_matrix - współczynnik strumienia zgłoszeń klasy r w systemie i**"
      ]
    },
    {
      "cell_type": "code",
      "metadata": {
        "id": "A2ahaTXtVwjD"
      },
      "source": [
        "def lambda_values_for_class(class_no):\n",
        "    A = np.transpose(p[class_no-1]) - np.identity(len(p[class_no-1]))\n",
        "    l_0_vector = np.zeros(N)\n",
        "    l_0_vector[0]= lambda_0[class_no-1]\n",
        "    b = -l_0_vector\n",
        "    \n",
        "    return np.linalg.solve(A, b)"
      ],
      "execution_count": 1350,
      "outputs": []
    },
    {
      "cell_type": "code",
      "metadata": {
        "id": "OInrzOlLVwjD"
      },
      "source": [
        "def lambda_matrix():\n",
        "    lambda_matrix = np.zeros((N, R))\n",
        "    for r in range(1, R+1):\n",
        "        vals = lambda_values_for_class(r)\n",
        "        for i in range(N):\n",
        "            lambda_matrix[i,r-1] = vals[i]\n",
        "    return lambda_matrix"
      ],
      "execution_count": 1351,
      "outputs": []
    },
    {
      "cell_type": "code",
      "metadata": {
        "id": "GdvZQx1sVwjD",
        "colab": {
          "base_uri": "https://localhost:8080/"
        },
        "outputId": "0da71e47-96ce-4f3f-c81a-2802b8db3825"
      },
      "source": [
        "lambda_matrix = lambda_matrix()\n",
        "lambda_matrix"
      ],
      "execution_count": 1352,
      "outputs": [
        {
          "output_type": "execute_result",
          "data": {
            "text/plain": [
              "array([[ 50., 100., 100., 100.],\n",
              "       [ 50.,   0.,   0.,   0.],\n",
              "       [  0., 100., 100., 100.],\n",
              "       [  0., 100.,   0.,   0.],\n",
              "       [  0.,   0., 100.,   0.],\n",
              "       [  0.,   0.,   0., 100.]])"
            ]
          },
          "metadata": {
            "tags": []
          },
          "execution_count": 1352
        }
      ]
    },
    {
      "cell_type": "markdown",
      "metadata": {
        "id": "M9ZHB1LDKnil"
      },
      "source": [
        "**Obliczanie ro_matrix - względna intensywność obsługi klasy r w systemie i**"
      ]
    },
    {
      "cell_type": "code",
      "metadata": {
        "id": "KnPU6kpaVwjE"
      },
      "source": [
        "def calculate_ro_ir(i, r, m):\n",
        "    return lambda_matrix[i,r-1]/(m[i]*mi[i][r-1])"
      ],
      "execution_count": 1353,
      "outputs": []
    },
    {
      "cell_type": "code",
      "metadata": {
        "id": "aavVTPb5VwjF"
      },
      "source": [
        "def calculate_ro_i(i, m):\n",
        "    return sum([calculate_ro_ir(i, r, m) for r in range(R)])"
      ],
      "execution_count": 1354,
      "outputs": []
    },
    {
      "cell_type": "code",
      "metadata": {
        "id": "TBCRtyLvVwjF"
      },
      "source": [
        "def get_ro_matrix(m):\n",
        "    ro_matrix = np.zeros((N, R))\n",
        "    for r in range(1,R+1):\n",
        "        for i in range(N):\n",
        "            ro_matrix[i, r-1] = calculate_ro_ir(i, r, m)\n",
        "    return ro_matrix"
      ],
      "execution_count": 1355,
      "outputs": []
    },
    {
      "cell_type": "code",
      "metadata": {
        "id": "gCVnsMasVwjG",
        "colab": {
          "base_uri": "https://localhost:8080/"
        },
        "outputId": "65e391ff-d548-4da8-dba3-bc1eeecae5a8"
      },
      "source": [
        "ro_matrix = get_ro_matrix(m_pocz)\r\n",
        "ro_matrix"
      ],
      "execution_count": 1356,
      "outputs": [
        {
          "output_type": "execute_result",
          "data": {
            "text/plain": [
              "array([[0.3125    , 0.90909091, 0.58823529, 0.71428571],\n",
              "       [0.20833333, 0.        , 0.        , 0.        ],\n",
              "       [0.        , 0.22727273, 0.14705882, 0.17857143],\n",
              "       [0.        , 0.66666667, 0.        , 0.        ],\n",
              "       [0.        , 0.        , 0.38461538, 0.        ],\n",
              "       [0.        , 0.        , 0.        , 0.76923077]])"
            ]
          },
          "metadata": {
            "tags": []
          },
          "execution_count": 1356
        }
      ]
    },
    {
      "cell_type": "markdown",
      "metadata": {
        "id": "ZoJRsbuELYcJ"
      },
      "source": [
        "**Obliczanie K_matrix - średnie liczby zgłoszeń klasy r w systemie i**"
      ]
    },
    {
      "cell_type": "markdown",
      "metadata": {
        "id": "pXN0WMcdLeS1"
      },
      "source": [
        "\r\n",
        "\r\n",
        "*   typ 1, m>1\r\n",
        "\r\n"
      ]
    },
    {
      "cell_type": "code",
      "metadata": {
        "id": "EMV1WsWRVwjG"
      },
      "source": [
        "def temp_first_part(ro, m):\n",
        "    denom1 = sum([(((m * ro) ** k) / math.factorial(k)) for k in range(m-1)])\n",
        "    denom2 = ((m*ro)**m) / (math.factorial(m)*(1-ro))\n",
        "        \n",
        "    return 1. / (denom1+denom2)\n",
        "\n",
        "def calculate_pi_i(i, m):\n",
        "    m_i = m[i]\n",
        "    ro_i = calculate_ro_i(i,m)\n",
        "    \n",
        "    first_part = temp_first_part(ro_i, m_i)   \n",
        "    second_part = ((m_i*ro_i)**m_i)/(math.factorial(m_i)*(1-ro_i))\n",
        "        \n",
        "    return first_part * second_part\n",
        "    "
      ],
      "execution_count": 1357,
      "outputs": []
    },
    {
      "cell_type": "code",
      "metadata": {
        "id": "JjoShxP_VwjG"
      },
      "source": [
        "def calculate_K_ir(i, r, m):\n",
        "    m_i = m[i]\n",
        "    ro_i = calculate_ro_i(i, m)\n",
        "    ro_ir = calculate_ro_ir(i, r, m)\n",
        "    mi_ro = m_i*ro_i\n",
        "    \n",
        "    first_part = m_i*ro_ir\n",
        "    second_part = ro_ir/(1-ro_i)\n",
        "    third_part = calculate_pi_i(i,m)\n",
        "    return first_part + (second_part * third_part)\n"
      ],
      "execution_count": 1358,
      "outputs": []
    },
    {
      "cell_type": "code",
      "metadata": {
        "id": "bJezC2zoVwjG"
      },
      "source": [
        "def get_K_matrix(m):\n",
        "    K_matrix = np.zeros((N, R))\n",
        "    \n",
        "    for r in range(1,R+1):\n",
        "        for i in range(N):\n",
        "            K_matrix[i, r-1] = calculate_K_ir(i, r, m)\n",
        "    \n",
        "    return np.nan_to_num(K_matrix)"
      ],
      "execution_count": 1359,
      "outputs": []
    },
    {
      "cell_type": "code",
      "metadata": {
        "id": "NaFfhlrYVwjH",
        "colab": {
          "base_uri": "https://localhost:8080/"
        },
        "outputId": "20231f10-15ef-460e-bb97-a847e840349c"
      },
      "source": [
        "K_matrix = get_K_matrix(m_pocz)\n",
        "K_matrix"
      ],
      "execution_count": 1360,
      "outputs": [
        {
          "output_type": "execute_result",
          "data": {
            "text/plain": [
              "array([[0.10746256, 0.31261837, 0.20228247, 0.24562872],\n",
              "       [0.44267041, 0.        , 0.        , 0.        ],\n",
              "       [0.        , 1.05279436, 0.68121988, 0.82719557],\n",
              "       [0.        , 2.66666667, 0.        , 0.        ],\n",
              "       [0.        , 0.        , 0.97215285, 0.        ],\n",
              "       [0.        , 0.        , 0.        , 4.1025641 ]])"
            ]
          },
          "metadata": {
            "tags": []
          },
          "execution_count": 1360
        }
      ]
    },
    {
      "cell_type": "markdown",
      "metadata": {
        "id": "wnqJhz1SLyMh"
      },
      "source": [
        "**Obliczanie T_matrix - średni czas przebywania zgłoszenia klasy r w systemie i**"
      ]
    },
    {
      "cell_type": "code",
      "metadata": {
        "id": "4pmUopCQVwjH"
      },
      "source": [
        "def get_T_ir(i, r, K_matrix):\n",
        "    if lambda_matrix[i, r-1] == 0:\n",
        "        return 0\n",
        "    return K_matrix[i, r-1]/lambda_matrix[i, r-1]\n",
        "\n",
        "def get_T_matrix(m):\n",
        "    T_matrix = np.zeros((N, R))\n",
        "    K_matrix = get_K_matrix(m)\n",
        "    for r in range(R+1):\n",
        "        for i in range(N):\n",
        "            T_matrix[i,r-1] = get_T_ir(i, r, K_matrix)\n",
        "    return np.nan_to_num(T_matrix)"
      ],
      "execution_count": 1361,
      "outputs": []
    },
    {
      "cell_type": "code",
      "metadata": {
        "id": "ynpSlBNoVwjH",
        "colab": {
          "base_uri": "https://localhost:8080/"
        },
        "outputId": "fc2b2da4-cdeb-426b-92e3-d35737008308"
      },
      "source": [
        "T_matrix = get_T_matrix(m_pocz)\n",
        "T_matrix"
      ],
      "execution_count": 1362,
      "outputs": [
        {
          "output_type": "execute_result",
          "data": {
            "text/plain": [
              "array([[0.00214925, 0.00312618, 0.00202282, 0.00245629],\n",
              "       [0.00885341, 0.        , 0.        , 0.        ],\n",
              "       [0.        , 0.01052794, 0.0068122 , 0.00827196],\n",
              "       [0.        , 0.02666667, 0.        , 0.        ],\n",
              "       [0.        , 0.        , 0.00972153, 0.        ],\n",
              "       [0.        , 0.        , 0.        , 0.04102564]])"
            ]
          },
          "metadata": {
            "tags": []
          },
          "execution_count": 1362
        }
      ]
    },
    {
      "cell_type": "markdown",
      "metadata": {
        "id": "taEn_29VMBwm"
      },
      "source": [
        "**Obliczanie W_matrix - średni czas oczekiwania zgłoszenia klasy r w systemi i**"
      ]
    },
    {
      "cell_type": "code",
      "metadata": {
        "id": "-p1koKhiVwjH"
      },
      "source": [
        "def get_W_matrix(m):\n",
        "    W_matrix = np.zeros((N, R))\n",
        "    T_matrix = get_T_matrix(m)\n",
        "    W_matrix = T_matrix - 1/mi\n",
        "    W_matrix[W_matrix<0] = 0\n",
        "    return np.nan_to_num(W_matrix)"
      ],
      "execution_count": 1363,
      "outputs": []
    },
    {
      "cell_type": "code",
      "metadata": {
        "id": "psQWVtsbVwjI",
        "colab": {
          "base_uri": "https://localhost:8080/"
        },
        "outputId": "d9af5993-ebde-45b6-c532-f65a4149454b"
      },
      "source": [
        "W_matrix = get_W_matrix(m_pocz)\n",
        "W_matrix"
      ],
      "execution_count": 1364,
      "outputs": [
        {
          "output_type": "execute_result",
          "data": {
            "text/plain": [
              "array([[0.        , 0.        , 0.        , 0.        ],\n",
              "       [0.00052007, 0.        , 0.        , 0.        ],\n",
              "       [0.        , 0.00143703, 0.00092985, 0.0011291 ],\n",
              "       [0.        , 0.02      , 0.        , 0.        ],\n",
              "       [0.        , 0.        , 0.00202922, 0.        ],\n",
              "       [0.        , 0.        , 0.        , 0.03333333]])"
            ]
          },
          "metadata": {
            "tags": []
          },
          "execution_count": 1364
        }
      ]
    },
    {
      "cell_type": "markdown",
      "metadata": {
        "id": "J_3aSUVTMfyb"
      },
      "source": [
        "**Obliczanie Q_matrix - średnia długość kolejki zgłoszeń klasy r w systemie i wyliczona na podstawie reguły Little’a**"
      ]
    },
    {
      "cell_type": "code",
      "metadata": {
        "id": "AOuun2IyVwjI"
      },
      "source": [
        "def get_Q_matrix(m):\n",
        "    Q_matrix = np.zeros((N, R))\n",
        "    W_matrix = get_W_matrix(m)\n",
        "    for r in range(R):\n",
        "        for i in range(N):\n",
        "            Q_matrix[i,r-1] = lambda_matrix[i,r-1]*W_matrix[i,r-1]\n",
        "            \n",
        "    return np.nan_to_num(Q_matrix)"
      ],
      "execution_count": 1365,
      "outputs": []
    },
    {
      "cell_type": "code",
      "metadata": {
        "id": "ME0osLtRVwjI",
        "colab": {
          "base_uri": "https://localhost:8080/"
        },
        "outputId": "07d98ebd-83a3-49f0-a267-f27c377c6386"
      },
      "source": [
        "Q_matrix = get_Q_matrix(m_pocz)\n",
        "Q_matrix"
      ],
      "execution_count": 1366,
      "outputs": [
        {
          "output_type": "execute_result",
          "data": {
            "text/plain": [
              "array([[0.        , 0.        , 0.        , 0.        ],\n",
              "       [0.02600374, 0.        , 0.        , 0.        ],\n",
              "       [0.        , 0.14370345, 0.09298458, 0.11290985],\n",
              "       [0.        , 2.        , 0.        , 0.        ],\n",
              "       [0.        , 0.        , 0.20292208, 0.        ],\n",
              "       [0.        , 0.        , 0.        , 3.33333333]])"
            ]
          },
          "metadata": {
            "tags": []
          },
          "execution_count": 1366
        }
      ]
    },
    {
      "cell_type": "markdown",
      "metadata": {
        "id": "W1hodVoQVwjI"
      },
      "source": [
        "**Optymalizacja**"
      ]
    },
    {
      "cell_type": "markdown",
      "metadata": {
        "id": "lJF4QzlsO31F"
      },
      "source": [
        "\r\n",
        "\r\n",
        "*   Parametry wejściowe\r\n",
        "\r\n",
        "\r\n",
        "\r\n"
      ]
    },
    {
      "cell_type": "code",
      "metadata": {
        "id": "pYfUHfhSVwjI",
        "colab": {
          "base_uri": "https://localhost:8080/"
        },
        "outputId": "73b8e256-9dca-4c02-b341-f8bdf26a0fa6"
      },
      "source": [
        "# C1 - koszty oczekiwania zgłoszenia klasy j w kolejce systemu i\n",
        "\n",
        "C1 = random.randint(20,100, size=(N, R))\n",
        "C1"
      ],
      "execution_count": 1367,
      "outputs": [
        {
          "output_type": "execute_result",
          "data": {
            "text/plain": [
              "array([[74, 37, 72, 29],\n",
              "       [88, 21, 78, 81],\n",
              "       [57, 63, 53, 98],\n",
              "       [22, 56, 72, 34],\n",
              "       [38, 93, 24, 94],\n",
              "       [91, 43, 52, 71]])"
            ]
          },
          "metadata": {
            "tags": []
          },
          "execution_count": 1367
        }
      ]
    },
    {
      "cell_type": "code",
      "metadata": {
        "id": "hQZw5Qh-VwjJ",
        "colab": {
          "base_uri": "https://localhost:8080/"
        },
        "outputId": "67265a13-0645-4eb5-9d3a-6d2b3dc53e09"
      },
      "source": [
        "# C2 - koszty niezajętości kanałów obsługi w systemie i\n",
        "\n",
        "C2 = random.randint(1, 4, size=N)\n",
        "C2"
      ],
      "execution_count": 1368,
      "outputs": [
        {
          "output_type": "execute_result",
          "data": {
            "text/plain": [
              "array([2, 1, 3, 1, 2, 3])"
            ]
          },
          "metadata": {
            "tags": []
          },
          "execution_count": 1368
        }
      ]
    },
    {
      "cell_type": "markdown",
      "metadata": {
        "id": "7smf4zifO0Mf"
      },
      "source": [
        "\r\n",
        "\r\n",
        "*   Funkcja celu\r\n",
        "\r\n"
      ]
    },
    {
      "cell_type": "code",
      "metadata": {
        "id": "FMR1Ze6yVwjJ"
      },
      "source": [
        "def f_celu(m):\n",
        "    m = np.array(m).astype(int)  \n",
        "    suma = 0\n",
        "    Q_matrix = get_Q_matrix(m)\n",
        "    ro = [calculate_ro_i(i, m) for i in range(N)]\n",
        "    ro = np.array(ro)\n",
        "    if (np.any(ro >1)):\n",
        "      suma += 10000\n",
        "    m_nzi = (m-m*ro)\n",
        "    for i in range(N):\n",
        "        for r in range(R):\n",
        "            suma = suma + C1[i,r]*Q_matrix[i,r] + C2[i]*m_nzi[i]\n",
        "            \n",
        "    return suma"
      ],
      "execution_count": 1369,
      "outputs": []
    },
    {
      "cell_type": "code",
      "metadata": {
        "id": "MOYgSSgEVwjJ",
        "colab": {
          "base_uri": "https://localhost:8080/"
        },
        "outputId": "bce7313d-1e8f-4182-b5d4-dc742363780a"
      },
      "source": [
        "f_celu(m)"
      ],
      "execution_count": 1370,
      "outputs": [
        {
          "output_type": "execute_result",
          "data": {
            "text/plain": [
              "10473.073622455988"
            ]
          },
          "metadata": {
            "tags": []
          },
          "execution_count": 1370
        }
      ]
    },
    {
      "cell_type": "code",
      "metadata": {
        "id": "7yIr4duQVwjK"
      },
      "source": [
        "varbound=np.array([[1,10]]*N)\n",
        "model=ga(function=f_celu,dimension=N,variable_type='int',variable_boundaries=varbound)"
      ],
      "execution_count": 1371,
      "outputs": []
    },
    {
      "cell_type": "code",
      "metadata": {
        "id": "FczqUAz82Cqg"
      },
      "source": [
        "def print_results(opt_solution):\r\n",
        "    cost_val = f_celu(opt_solution)\r\n",
        "    opt_solution = opt_solution.astype(int)\r\n",
        "\r\n",
        "    print(f\"Rozwiązanie:\\n {opt_solution}\")\r\n",
        "    print(f\"Koszt:\\n {cost_val}\")\r\n",
        "    print(f\"lambda_matrix:\\n {lambda_matrix}\")\r\n",
        "    print(f\"ro_matrix:\\n {get_ro_matrix(opt_solution)}\")\r\n",
        "    print(f\"K_matrix:\\n {get_K_matrix(opt_solution)}\")\r\n",
        "    print(f\"T_matrix:\\n {get_T_matrix(opt_solution)}\")\r\n",
        "    print(f\"W_matrix:\\n {get_W_matrix(opt_solution)}\")\r\n",
        "    print(f\"Q_matrix:\\n {get_Q_matrix(opt_solution)}\")\r\n",
        "\r\n"
      ],
      "execution_count": 1372,
      "outputs": []
    },
    {
      "cell_type": "code",
      "metadata": {
        "id": "h99XfzlyVwjL",
        "colab": {
          "base_uri": "https://localhost:8080/",
          "height": 1000
        },
        "outputId": "cb375fd4-98f8-4e2c-b0ba-e249cf6e59f8"
      },
      "source": [
        "model.run()    \r\n",
        "report = model.report\r\n",
        "min_iter = report.index(min(report))\r\n",
        "print(f\"Rozwiązanie znalezione w {min_iter} iteracji\")\r\n",
        "\r\n",
        "opt_solution = model.best_variable\r\n",
        "\r\n",
        "print_results(opt_solution)"
      ],
      "execution_count": 1373,
      "outputs": [
        {
          "output_type": "stream",
          "text": [
            " The best solution found:\n",
            " [5. 2. 5. 3. 2. 3.]\n",
            "\n",
            " Objective function:\n",
            " 127.58401303993281\n"
          ],
          "name": "stdout"
        },
        {
          "output_type": "display_data",
          "data": {
            "image/png": "[encoded data removed]",
            "text/plain": [
              "<Figure size 432x288 with 1 Axes>"
            ]
          },
          "metadata": {
            "tags": [],
            "needs_background": "light"
          }
        },
        {
          "output_type": "stream",
          "text": [
            "Rozwiązanie znalezione w 32 iteracji\n",
            "Rozwiązanie:\n",
            " [5 2 5 3 2 3]\n",
            "Koszt:\n",
            " 127.58401303993281\n",
            "lambda_matrix:\n",
            " [[ 50. 100. 100. 100.]\n",
            " [ 50.   0.   0.   0.]\n",
            " [  0. 100. 100. 100.]\n",
            " [  0. 100.   0.   0.]\n",
            " [  0.   0. 100.   0.]\n",
            " [  0.   0.   0. 100.]]\n",
            "ro_matrix:\n",
            " [[0.0625     0.18181818 0.11764706 0.14285714]\n",
            " [0.20833333 0.         0.         0.        ]\n",
            " [0.         0.18181818 0.11764706 0.14285714]\n",
            " [0.         0.22222222 0.         0.        ]\n",
            " [0.         0.         0.38461538 0.        ]\n",
            " [0.         0.         0.         0.25641026]]\n",
            "K_matrix:\n",
            " [[0.33208134 0.9660548  0.62509428 0.75904306]\n",
            " [0.44267041 0.         0.         0.        ]\n",
            " [0.         0.94033292 0.60845071 0.73883301]\n",
            " [0.         0.67715159 0.         0.        ]\n",
            " [0.         0.         0.97215285 0.        ]\n",
            " [0.         0.         0.         0.78803066]]\n",
            "T_matrix:\n",
            " [[0.00664163 0.00966055 0.00625094 0.00759043]\n",
            " [0.00885341 0.         0.         0.        ]\n",
            " [0.         0.00940333 0.00608451 0.00738833]\n",
            " [0.         0.00677152 0.         0.        ]\n",
            " [0.         0.         0.00972153 0.        ]\n",
            " [0.         0.         0.         0.00788031]]\n",
            "W_matrix:\n",
            " [[0.00039163 0.00056964 0.00036859 0.00044757]\n",
            " [0.00052007 0.         0.         0.        ]\n",
            " [0.         0.00031242 0.00020215 0.00024547]\n",
            " [0.         0.00010485 0.         0.        ]\n",
            " [0.         0.         0.00202922 0.        ]\n",
            " [0.         0.         0.         0.000188  ]]\n",
            "Q_matrix:\n",
            " [[0.01958134 0.05696389 0.03685899 0.04475734]\n",
            " [0.02600374 0.         0.         0.        ]\n",
            " [0.         0.03124201 0.02021542 0.0245473 ]\n",
            " [0.         0.01048493 0.         0.        ]\n",
            " [0.         0.         0.20292208 0.        ]\n",
            " [0.         0.         0.         0.01879989]]\n"
          ],
          "name": "stdout"
        }
      ]
    },
    {
      "cell_type": "code",
      "metadata": {
        "id": "CRF0IPuZntFh"
      },
      "source": [
        ""
      ],
      "execution_count": 1373,
      "outputs": []
    }
  ]
}