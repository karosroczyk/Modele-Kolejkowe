{
 "cells": [
  {
   "cell_type": "code",
   "execution_count": 11,
   "metadata": {
    "colab": {
     "base_uri": "https://localhost:8080/"
    },
    "id": "uRXe1yXtVwi_",
    "outputId": "b57faf16-0e56-4743-ab3f-d4f7dee063a6"
   },
   "outputs": [],
   "source": [
    "import numpy as np\n",
    "from IPython.display import Image\n",
    "import math\n",
    "from numpy import random\n",
    "from geneticalgorithm import geneticalgorithm as ga\n",
    "from sympy import Matrix, vector, init_printing\n",
    "init_printing()"
   ]
  },
  {
   "cell_type": "markdown",
   "metadata": {
    "id": "ROnTIyd5ILMW"
   },
   "source": [
    "<br/><br/>**Parametry wejściowe**"
   ]
  },
  {
   "cell_type": "code",
   "execution_count": 12,
   "metadata": {
    "id": "6EHIa7IKVwjB"
   },
   "outputs": [],
   "source": [
    "R = 4 # liczba klas\n",
    "N = 6 # liczba systemów"
   ]
  },
  {
   "cell_type": "code",
   "execution_count": 13,
   "metadata": {
    "id": "RkOwt-bmVwjB"
   },
   "outputs": [],
   "source": [
    "# lambda_0 dla każdej klasy\n",
    "\n",
    "lambda_0 = [50, 100, 100, 100]"
   ]
  },
  {
   "cell_type": "code",
   "execution_count": 14,
   "metadata": {},
   "outputs": [
    {
     "data": {
      "image/png": "[encoded data removed]",
      "text/latex": [
       "$\\displaystyle \\left[ 50, \\  100, \\  100, \\  100\\right]$"
      ],
      "text/plain": [
       "[50, 100, 100, 100]"
      ]
     },
     "execution_count": 14,
     "metadata": {},
     "output_type": "execute_result"
    }
   ],
   "source": [
    "lambda_0"
   ]
  },
  {
   "cell_type": "code",
   "execution_count": 55,
   "metadata": {
    "id": "8jt1BrvGVwjC"
   },
   "outputs": [],
   "source": [
    "# macierze prawdopodobieństwa dla klas\n",
    "\n",
    "p1 = np.array(\n",
    "      [[0., 1., 0., 0., 0., 0.],\n",
    "       [0., 0., 0., 0., 0., 0.],\n",
    "       [0., 0., 0., 0., 0., 0.],\n",
    "       [0., 0., 0., 0., 0., 0.],\n",
    "       [0., 0., 0., 0., 0., 0.],\n",
    "       [0., 0., 0., 0., 0., 0.]])\n",
    "p2 = np.array(\n",
    "      [[0., 0., 1., 0., 0., 0.],\n",
    "       [0., 0., 0., 0., 0., 0.],\n",
    "       [0., 0., 0., 1., 0., 0.],\n",
    "       [0., 0., 0., 0., 0., 0.],\n",
    "       [0., 0., 0., 0., 0., 0.],\n",
    "       [0., 0., 0., 0., 0., 0.]])\n",
    "p3 = np.array(\n",
    "      [[0., 0., 1., 0., 0., 0.],\n",
    "       [0., 0., 0., 0., 0., 0.],\n",
    "       [0., 0., 0., 0., 1., 0.],\n",
    "       [0., 0., 0., 0., 0., 0.],\n",
    "       [0., 0., 0., 0., 0., 0.],\n",
    "       [0., 0., 0., 0., 0., 0.]])\n",
    "p4 = np.array(\n",
    "      [[0., 0., 1., 0., 0., 0.],\n",
    "       [0., 0., 0., 0., 0., 0.],\n",
    "       [0., 0., 0., 0., 0., 1.],\n",
    "       [0., 0., 0., 0., 0., 0.],\n",
    "       [0., 0., 0., 0., 0., 0.],\n",
    "       [0., 0., 0., 0., 0., 0.]])"
   ]
  },
  {
   "cell_type": "code",
   "execution_count": 16,
   "metadata": {
    "id": "BY_x-6F7VwjC"
   },
   "outputs": [],
   "source": [
    "p = [p1, p2, p3, p4]"
   ]
  },
  {
   "cell_type": "code",
   "execution_count": 17,
   "metadata": {
    "id": "-tX29Aj5Jz_Z"
   },
   "outputs": [],
   "source": [
    "# parametr rozkładu czas obsługi\n",
    "\n",
    "mi = np.array(\n",
    "      [[160  , 160  , 160 , 160 ],\n",
    "       [ 120 , 120  , 120 , 120 ],\n",
    "       [110  , 110  , 110 , 110 ],\n",
    "       [150  , 150  , 150 , 150 ],\n",
    "       [130  , 130  , 130 , 130 ],\n",
    "       [110  , 110  , 110 , 110 ]])"
   ]
  },
  {
   "cell_type": "code",
   "execution_count": 58,
   "metadata": {},
   "outputs": [
    {
     "name": "stdout",
     "output_type": "stream",
     "text": [
      "mi = \n"
     ]
    },
    {
     "data": {
      "image/png": "[encoded data removed]",
      "text/latex": [
       "$\\displaystyle \\left[\\begin{matrix}160 & 160 & 160 & 160\\\\120 & 120 & 120 & 120\\\\110 & 110 & 110 & 110\\\\150 & 150 & 150 & 150\\\\130 & 130 & 130 & 130\\\\110 & 110 & 110 & 110\\end{matrix}\\right]$"
      ],
      "text/plain": [
       "⎡160  160  160  160⎤\n",
       "⎢                  ⎥\n",
       "⎢120  120  120  120⎥\n",
       "⎢                  ⎥\n",
       "⎢110  110  110  110⎥\n",
       "⎢                  ⎥\n",
       "⎢150  150  150  150⎥\n",
       "⎢                  ⎥\n",
       "⎢130  130  130  130⎥\n",
       "⎢                  ⎥\n",
       "⎣110  110  110  110⎦"
      ]
     },
     "metadata": {},
     "output_type": "display_data"
    }
   ],
   "source": [
    "print(\"mi = \")\n",
    "display(Matrix(mi))"
   ]
  },
  {
   "cell_type": "code",
   "execution_count": 18,
   "metadata": {
    "id": "aod4BdSuJ2pZ"
   },
   "outputs": [],
   "source": [
    "# kanały obsługi\n",
    "m_pocz = [1, 2, 4, 1, 2, 1]"
   ]
  },
  {
   "cell_type": "markdown",
   "metadata": {
    "id": "zqs0KWLmKZn-"
   },
   "source": [
    "<br/><br/>**Obiczanie lambda_matrix - współczynnik strumienia zgłoszeń klasy r w systemie i**"
   ]
  },
  {
   "cell_type": "code",
   "execution_count": 19,
   "metadata": {
    "id": "A2ahaTXtVwjD"
   },
   "outputs": [],
   "source": [
    "def lambda_values_for_class(class_no):\n",
    "    A = np.transpose(p[class_no-1]) - np.identity(len(p[class_no-1]))\n",
    "    l_0_vector = np.zeros(N)\n",
    "    l_0_vector[0]= lambda_0[class_no-1]\n",
    "    b = -l_0_vector\n",
    "    \n",
    "    return np.linalg.solve(A, b)"
   ]
  },
  {
   "cell_type": "code",
   "execution_count": 20,
   "metadata": {
    "id": "OInrzOlLVwjD"
   },
   "outputs": [],
   "source": [
    "def lambda_matrix():\n",
    "    lambda_matrix = np.zeros((N, R))\n",
    "    for r in range(1, R+1):\n",
    "        vals = lambda_values_for_class(r)\n",
    "        for i in range(N):\n",
    "            lambda_matrix[i,r-1] = vals[i]\n",
    "    return lambda_matrix"
   ]
  },
  {
   "cell_type": "code",
   "execution_count": 21,
   "metadata": {
    "colab": {
     "base_uri": "https://localhost:8080/"
    },
    "id": "GdvZQx1sVwjD",
    "outputId": "0da71e47-96ce-4f3f-c81a-2802b8db3825",
    "scrolled": true
   },
   "outputs": [
    {
     "name": "stdout",
     "output_type": "stream",
     "text": [
      "lambda matrix:\n"
     ]
    },
    {
     "data": {
      "image/png": "[encoded data removed]",
      "text/latex": [
       "$\\displaystyle \\left[\\begin{matrix}50.0 & 100.0 & 100.0 & 100.0\\\\50.0 & 0.0 & 0.0 & 0.0\\\\0.0 & 100.0 & 100.0 & 100.0\\\\0.0 & 100.0 & 0.0 & 0.0\\\\0.0 & 0.0 & 100.0 & 0.0\\\\0.0 & 0.0 & 0.0 & 100.0\\end{matrix}\\right]$"
      ],
      "text/plain": [
       "⎡50.0  100.0  100.0  100.0⎤\n",
       "⎢                         ⎥\n",
       "⎢50.0   0.0    0.0    0.0 ⎥\n",
       "⎢                         ⎥\n",
       "⎢0.0   100.0  100.0  100.0⎥\n",
       "⎢                         ⎥\n",
       "⎢0.0   100.0   0.0    0.0 ⎥\n",
       "⎢                         ⎥\n",
       "⎢0.0    0.0   100.0   0.0 ⎥\n",
       "⎢                         ⎥\n",
       "⎣0.0    0.0    0.0   100.0⎦"
      ]
     },
     "metadata": {},
     "output_type": "display_data"
    }
   ],
   "source": [
    "lambda_matrix = lambda_matrix()\n",
    "print(\"lambda matrix:\")\n",
    "display(Matrix(lambda_matrix))"
   ]
  },
  {
   "cell_type": "markdown",
   "metadata": {
    "id": "M9ZHB1LDKnil"
   },
   "source": [
    "<br/><br/>**Obliczanie ro_matrix - względna intensywność obsługi klasy r w systemie i**"
   ]
  },
  {
   "cell_type": "code",
   "execution_count": 22,
   "metadata": {
    "id": "KnPU6kpaVwjE"
   },
   "outputs": [],
   "source": [
    "def calculate_ro_ir(i, r, m):\n",
    "    return np.around(lambda_matrix[i,r-1]/(m[i]*mi[i][r-1]), decimals=5)"
   ]
  },
  {
   "cell_type": "code",
   "execution_count": 23,
   "metadata": {
    "id": "aavVTPb5VwjF"
   },
   "outputs": [],
   "source": [
    "def calculate_ro_i(i, m):\n",
    "    return sum([calculate_ro_ir(i, r, m) for r in range(R)])"
   ]
  },
  {
   "cell_type": "code",
   "execution_count": 24,
   "metadata": {
    "id": "TBCRtyLvVwjF"
   },
   "outputs": [],
   "source": [
    "def get_ro_matrix(m):\n",
    "    ro_matrix = np.zeros((N, R))\n",
    "    for r in range(1,R+1):\n",
    "        for i in range(N):\n",
    "            ro_matrix[i, r-1] = calculate_ro_ir(i, r, m)\n",
    "    return ro_matrix"
   ]
  },
  {
   "cell_type": "code",
   "execution_count": 25,
   "metadata": {
    "colab": {
     "base_uri": "https://localhost:8080/"
    },
    "id": "gCVnsMasVwjG",
    "outputId": "65e391ff-d548-4da8-dba3-bc1eeecae5a8"
   },
   "outputs": [
    {
     "name": "stdout",
     "output_type": "stream",
     "text": [
      "ro matrix:\n"
     ]
    },
    {
     "data": {
      "image/png": "[encoded data removed]",
      "text/latex": [
       "$\\displaystyle \\left[\\begin{matrix}0.3125 & 0.625 & 0.625 & 0.625\\\\0.20833 & 0.0 & 0.0 & 0.0\\\\0.0 & 0.22727 & 0.22727 & 0.22727\\\\0.0 & 0.66667 & 0.0 & 0.0\\\\0.0 & 0.0 & 0.38462 & 0.0\\\\0.0 & 0.0 & 0.0 & 0.90909\\end{matrix}\\right]$"
      ],
      "text/plain": [
       "⎡0.3125    0.625    0.625    0.625 ⎤\n",
       "⎢                                  ⎥\n",
       "⎢0.20833    0.0      0.0      0.0  ⎥\n",
       "⎢                                  ⎥\n",
       "⎢  0.0    0.22727  0.22727  0.22727⎥\n",
       "⎢                                  ⎥\n",
       "⎢  0.0    0.66667    0.0      0.0  ⎥\n",
       "⎢                                  ⎥\n",
       "⎢  0.0      0.0    0.38462    0.0  ⎥\n",
       "⎢                                  ⎥\n",
       "⎣  0.0      0.0      0.0    0.90909⎦"
      ]
     },
     "metadata": {},
     "output_type": "display_data"
    }
   ],
   "source": [
    "ro_matrix = get_ro_matrix(m_pocz)\n",
    "print(\"ro matrix:\")\n",
    "display(Matrix(ro_matrix))"
   ]
  },
  {
   "cell_type": "markdown",
   "metadata": {
    "id": "ZoJRsbuELYcJ"
   },
   "source": [
    "<br/><br/>**Obliczanie K_matrix - średnie liczby zgłoszeń klasy r w systemie i**"
   ]
  },
  {
   "cell_type": "markdown",
   "metadata": {
    "id": "pXN0WMcdLeS1"
   },
   "source": [
    "\n",
    "\n",
    "*   typ 1, m>1\n",
    "\n"
   ]
  },
  {
   "cell_type": "code",
   "execution_count": 26,
   "metadata": {
    "id": "EMV1WsWRVwjG"
   },
   "outputs": [],
   "source": [
    "def temp_first_part(ro, m):\n",
    "    denom1 = sum([(((m * ro) ** k) / math.factorial(k)) for k in range(m-1)])\n",
    "    denom2 = ((m*ro)**m) / (math.factorial(m)*(1-ro))\n",
    "        \n",
    "    return 1. / (denom1+denom2)\n",
    "\n",
    "def calculate_pi_i(i, m):\n",
    "    m_i = m[i]\n",
    "    ro_i = calculate_ro_i(i,m)\n",
    "    \n",
    "    first_part = temp_first_part(ro_i, m_i)   \n",
    "    second_part = ((m_i*ro_i)**m_i)/(math.factorial(m_i)*(1-ro_i))\n",
    "        \n",
    "    return first_part * second_part\n",
    "    "
   ]
  },
  {
   "cell_type": "code",
   "execution_count": 27,
   "metadata": {
    "id": "JjoShxP_VwjG"
   },
   "outputs": [],
   "source": [
    "def calculate_K_ir(i, r, m):\n",
    "    m_i = m[i]\n",
    "    ro_i = calculate_ro_i(i, m)\n",
    "    ro_ir = calculate_ro_ir(i, r, m)\n",
    "    mi_ro = m_i*ro_i\n",
    "    \n",
    "    first_part = m_i*ro_ir\n",
    "    second_part = ro_ir/(1-ro_i)\n",
    "    third_part = calculate_pi_i(i,m)\n",
    "    return np.around(first_part + (second_part * third_part), decimals=5)\n"
   ]
  },
  {
   "cell_type": "code",
   "execution_count": 28,
   "metadata": {
    "id": "bJezC2zoVwjG"
   },
   "outputs": [],
   "source": [
    "def get_K_matrix(m):\n",
    "    K_matrix = np.zeros((N, R))\n",
    "    \n",
    "    for r in range(1,R+1):\n",
    "        for i in range(N):\n",
    "            K_matrix[i, r-1] = calculate_K_ir(i, r, m)\n",
    "    \n",
    "    return np.nan_to_num(K_matrix)"
   ]
  },
  {
   "cell_type": "code",
   "execution_count": 29,
   "metadata": {
    "colab": {
     "base_uri": "https://localhost:8080/"
    },
    "id": "NaFfhlrYVwjH",
    "outputId": "20231f10-15ef-460e-bb97-a847e840349c"
   },
   "outputs": [
    {
     "name": "stdout",
     "output_type": "stream",
     "text": [
      "K matrix:\n"
     ]
    },
    {
     "data": {
      "image/png": "[encoded data removed]",
      "text/latex": [
       "$\\displaystyle \\left[\\begin{matrix}0.04934 & 0.09868 & 0.09868 & 0.09868\\\\0.44266 & 0.0 & 0.0 & 0.0\\\\0.0 & 1.2613 & 1.2613 & 1.2613\\\\0.0 & 2.6667 & 0.0 & 0.0\\\\0.0 & 0.0 & 0.97217 & 0.0\\\\0.0 & 0.0 & 0.0 & 10.90898\\end{matrix}\\right]$"
      ],
      "text/plain": [
       "⎡0.04934  0.09868  0.09868  0.09868 ⎤\n",
       "⎢                                   ⎥\n",
       "⎢0.44266    0.0      0.0      0.0   ⎥\n",
       "⎢                                   ⎥\n",
       "⎢  0.0    1.2613   1.2613    1.2613 ⎥\n",
       "⎢                                   ⎥\n",
       "⎢  0.0    2.6667     0.0      0.0   ⎥\n",
       "⎢                                   ⎥\n",
       "⎢  0.0      0.0    0.97217    0.0   ⎥\n",
       "⎢                                   ⎥\n",
       "⎣  0.0      0.0      0.0    10.90898⎦"
      ]
     },
     "metadata": {},
     "output_type": "display_data"
    }
   ],
   "source": [
    "K_matrix = get_K_matrix(m_pocz)\n",
    "print(\"K matrix:\")\n",
    "display(Matrix(K_matrix))"
   ]
  },
  {
   "cell_type": "markdown",
   "metadata": {
    "id": "wnqJhz1SLyMh"
   },
   "source": [
    "<br/><br/>**Obliczanie T_matrix - średni czas przebywania zgłoszenia klasy r w systemie i**"
   ]
  },
  {
   "cell_type": "code",
   "execution_count": 30,
   "metadata": {
    "id": "4pmUopCQVwjH"
   },
   "outputs": [],
   "source": [
    "def get_T_ir(i, r, K_matrix):\n",
    "    if lambda_matrix[i, r-1] == 0:\n",
    "        return 0\n",
    "    return np.around(K_matrix[i, r-1]/lambda_matrix[i, r-1], decimals=5)\n",
    "\n",
    "def get_T_matrix(m):\n",
    "    T_matrix = np.zeros((N, R))\n",
    "    K_matrix = get_K_matrix(m)\n",
    "    for r in range(R+1):\n",
    "        for i in range(N):\n",
    "            T_matrix[i,r-1] = get_T_ir(i, r, K_matrix)\n",
    "    return np.nan_to_num(T_matrix)"
   ]
  },
  {
   "cell_type": "code",
   "execution_count": 31,
   "metadata": {
    "colab": {
     "base_uri": "https://localhost:8080/"
    },
    "id": "ynpSlBNoVwjH",
    "outputId": "fc2b2da4-cdeb-426b-92e3-d35737008308"
   },
   "outputs": [
    {
     "data": {
      "text/plain": [
       "array([[0.00099, 0.00099, 0.00099, 0.00099],\n",
       "       [0.00885, 0.     , 0.     , 0.     ],\n",
       "       [0.     , 0.01261, 0.01261, 0.01261],\n",
       "       [0.     , 0.02667, 0.     , 0.     ],\n",
       "       [0.     , 0.     , 0.00972, 0.     ],\n",
       "       [0.     , 0.     , 0.     , 0.10909]])"
      ]
     },
     "execution_count": 31,
     "metadata": {},
     "output_type": "execute_result"
    }
   ],
   "source": [
    "T_matrix = get_T_matrix(m_pocz)\n",
    "T_matrix"
   ]
  },
  {
   "cell_type": "markdown",
   "metadata": {
    "id": "taEn_29VMBwm"
   },
   "source": [
    "<br/><br/>**Obliczanie W_matrix - średni czas oczekiwania zgłoszenia klasy r w systemie i**"
   ]
  },
  {
   "cell_type": "code",
   "execution_count": 32,
   "metadata": {
    "id": "-p1koKhiVwjH"
   },
   "outputs": [],
   "source": [
    "def get_W_matrix(m):\n",
    "    W_matrix = np.zeros((N, R))\n",
    "    T_matrix = get_T_matrix(m)\n",
    "    W_matrix = T_matrix - 1/mi\n",
    "    W_matrix[W_matrix<0] = 0\n",
    "    return np.around(np.nan_to_num(W_matrix), decimals=5)"
   ]
  },
  {
   "cell_type": "code",
   "execution_count": 33,
   "metadata": {
    "colab": {
     "base_uri": "https://localhost:8080/"
    },
    "id": "psQWVtsbVwjI",
    "outputId": "d9af5993-ebde-45b6-c532-f65a4149454b"
   },
   "outputs": [
    {
     "name": "stdout",
     "output_type": "stream",
     "text": [
      "W matrix:\n"
     ]
    },
    {
     "data": {
      "image/png": "[encoded data removed]",
      "text/latex": [
       "$\\displaystyle \\left[\\begin{matrix}0.0 & 0.0 & 0.0 & 0.0\\\\0.00052 & 0.0 & 0.0 & 0.0\\\\0.0 & 0.00352 & 0.00352 & 0.00352\\\\0.0 & 0.02 & 0.0 & 0.0\\\\0.0 & 0.0 & 0.00203 & 0.0\\\\0.0 & 0.0 & 0.0 & 0.1\\end{matrix}\\right]$"
      ],
      "text/plain": [
       "⎡  0.0      0.0      0.0      0.0  ⎤\n",
       "⎢                                  ⎥\n",
       "⎢0.00052    0.0      0.0      0.0  ⎥\n",
       "⎢                                  ⎥\n",
       "⎢  0.0    0.00352  0.00352  0.00352⎥\n",
       "⎢                                  ⎥\n",
       "⎢  0.0     0.02      0.0      0.0  ⎥\n",
       "⎢                                  ⎥\n",
       "⎢  0.0      0.0    0.00203    0.0  ⎥\n",
       "⎢                                  ⎥\n",
       "⎣  0.0      0.0      0.0      0.1  ⎦"
      ]
     },
     "metadata": {},
     "output_type": "display_data"
    }
   ],
   "source": [
    "W_matrix = get_W_matrix(m_pocz)\n",
    "print(\"W matrix:\")\n",
    "display(Matrix(W_matrix))"
   ]
  },
  {
   "cell_type": "markdown",
   "metadata": {
    "id": "J_3aSUVTMfyb"
   },
   "source": [
    "<br/><br/>**Obliczanie Q_matrix - średnia długość kolejki zgłoszeń klasy r w systemie i wyliczona na podstawie reguły Little’a**"
   ]
  },
  {
   "cell_type": "code",
   "execution_count": 34,
   "metadata": {
    "id": "AOuun2IyVwjI"
   },
   "outputs": [],
   "source": [
    "def get_Q_matrix(m):\n",
    "    Q_matrix = np.zeros((N, R))\n",
    "    W_matrix = get_W_matrix(m)\n",
    "    for r in range(R):\n",
    "        for i in range(N):\n",
    "            Q_matrix[i,r-1] = lambda_matrix[i,r-1]*W_matrix[i,r-1]\n",
    "            \n",
    "    return np.around(np.nan_to_num(Q_matrix), decimals=5)"
   ]
  },
  {
   "cell_type": "code",
   "execution_count": 35,
   "metadata": {
    "colab": {
     "base_uri": "https://localhost:8080/"
    },
    "id": "ME0osLtRVwjI",
    "outputId": "07d98ebd-83a3-49f0-a267-f27c377c6386"
   },
   "outputs": [
    {
     "name": "stdout",
     "output_type": "stream",
     "text": [
      "Q matrix:\n"
     ]
    },
    {
     "data": {
      "image/png": "[encoded data removed]",
      "text/latex": [
       "$\\displaystyle \\left[\\begin{matrix}0.0 & 0.0 & 0.0 & 0.0\\\\0.026 & 0.0 & 0.0 & 0.0\\\\0.0 & 0.352 & 0.352 & 0.352\\\\0.0 & 2.0 & 0.0 & 0.0\\\\0.0 & 0.0 & 0.203 & 0.0\\\\0.0 & 0.0 & 0.0 & 10.0\\end{matrix}\\right]$"
      ],
      "text/plain": [
       "⎡ 0.0    0.0    0.0    0.0 ⎤\n",
       "⎢                          ⎥\n",
       "⎢0.026   0.0    0.0    0.0 ⎥\n",
       "⎢                          ⎥\n",
       "⎢ 0.0   0.352  0.352  0.352⎥\n",
       "⎢                          ⎥\n",
       "⎢ 0.0    2.0    0.0    0.0 ⎥\n",
       "⎢                          ⎥\n",
       "⎢ 0.0    0.0   0.203   0.0 ⎥\n",
       "⎢                          ⎥\n",
       "⎣ 0.0    0.0    0.0   10.0 ⎦"
      ]
     },
     "metadata": {},
     "output_type": "display_data"
    }
   ],
   "source": [
    "Q_matrix = get_Q_matrix(m_pocz)\n",
    "print(\"Q matrix:\")\n",
    "display(Matrix(Q_matrix))"
   ]
  },
  {
   "cell_type": "markdown",
   "metadata": {
    "id": "W1hodVoQVwjI"
   },
   "source": [
    "<br/><br/>**Optymalizacja**"
   ]
  },
  {
   "cell_type": "markdown",
   "metadata": {
    "id": "lJF4QzlsO31F"
   },
   "source": [
    "\n",
    "\n",
    "*   Parametry wejściowe\n",
    "\n",
    "\n",
    "\n"
   ]
  },
  {
   "cell_type": "code",
   "execution_count": 36,
   "metadata": {
    "colab": {
     "base_uri": "https://localhost:8080/"
    },
    "id": "pYfUHfhSVwjI",
    "outputId": "73b8e256-9dca-4c02-b341-f8bdf26a0fa6"
   },
   "outputs": [
    {
     "name": "stdout",
     "output_type": "stream",
     "text": [
      "C1 = \n"
     ]
    },
    {
     "data": {
      "image/png": "[encoded data removed]",
      "text/latex": [
       "$\\displaystyle \\left[\\begin{matrix}29 & 54 & 40 & 72\\\\33 & 70 & 58 & 50\\\\21 & 77 & 32 & 59\\\\89 & 44 & 20 & 64\\\\48 & 66 & 69 & 21\\\\38 & 28 & 27 & 69\\end{matrix}\\right]$"
      ],
      "text/plain": [
       "⎡29  54  40  72⎤\n",
       "⎢              ⎥\n",
       "⎢33  70  58  50⎥\n",
       "⎢              ⎥\n",
       "⎢21  77  32  59⎥\n",
       "⎢              ⎥\n",
       "⎢89  44  20  64⎥\n",
       "⎢              ⎥\n",
       "⎢48  66  69  21⎥\n",
       "⎢              ⎥\n",
       "⎣38  28  27  69⎦"
      ]
     },
     "metadata": {},
     "output_type": "display_data"
    }
   ],
   "source": [
    "# C1 - koszty oczekiwania zgłoszenia klasy j w kolejce systemu i\n",
    "\n",
    "C1 = random.randint(20,100, size=(N, R))\n",
    "print(\"C1 = \")\n",
    "display(Matrix(C1))"
   ]
  },
  {
   "cell_type": "code",
   "execution_count": 37,
   "metadata": {
    "colab": {
     "base_uri": "https://localhost:8080/"
    },
    "id": "hQZw5Qh-VwjJ",
    "outputId": "67265a13-0645-4eb5-9d3a-6d2b3dc53e09"
   },
   "outputs": [
    {
     "name": "stdout",
     "output_type": "stream",
     "text": [
      "C2 = \n"
     ]
    },
    {
     "data": {
      "image/png": "[encoded data removed]",
      "text/latex": [
       "$\\displaystyle \\left[\\begin{matrix}1\\\\8\\\\5\\\\3\\\\8\\\\3\\end{matrix}\\right]$"
      ],
      "text/plain": [
       "⎡1⎤\n",
       "⎢ ⎥\n",
       "⎢8⎥\n",
       "⎢ ⎥\n",
       "⎢5⎥\n",
       "⎢ ⎥\n",
       "⎢3⎥\n",
       "⎢ ⎥\n",
       "⎢8⎥\n",
       "⎢ ⎥\n",
       "⎣3⎦"
      ]
     },
     "metadata": {},
     "output_type": "display_data"
    }
   ],
   "source": [
    "# C2 - koszty niezajętości kanałów obsługi w systemie i\n",
    "\n",
    "C2 = random.randint(1, 10, size=N)\n",
    "print(\"C2 = \")\n",
    "display(Matrix(C2))"
   ]
  },
  {
   "cell_type": "code",
   "execution_count": 38,
   "metadata": {},
   "outputs": [
    {
     "name": "stdout",
     "output_type": "stream",
     "text": [
      "\n",
      "Lambda matrix:\n"
     ]
    },
    {
     "data": {
      "image/png": "[encoded data removed]",
      "text/latex": [
       "$\\displaystyle \\left[\\begin{matrix}50.0 & 100.0 & 100.0 & 100.0\\\\50.0 & 0.0 & 0.0 & 0.0\\\\0.0 & 100.0 & 100.0 & 100.0\\\\0.0 & 100.0 & 0.0 & 0.0\\\\0.0 & 0.0 & 100.0 & 0.0\\\\0.0 & 0.0 & 0.0 & 100.0\\end{matrix}\\right]$"
      ],
      "text/plain": [
       "⎡50.0  100.0  100.0  100.0⎤\n",
       "⎢                         ⎥\n",
       "⎢50.0   0.0    0.0    0.0 ⎥\n",
       "⎢                         ⎥\n",
       "⎢0.0   100.0  100.0  100.0⎥\n",
       "⎢                         ⎥\n",
       "⎢0.0   100.0   0.0    0.0 ⎥\n",
       "⎢                         ⎥\n",
       "⎢0.0    0.0   100.0   0.0 ⎥\n",
       "⎢                         ⎥\n",
       "⎣0.0    0.0    0.0   100.0⎦"
      ]
     },
     "metadata": {},
     "output_type": "display_data"
    }
   ],
   "source": [
    "print(\"\\nLambda matrix:\")\n",
    "display(Matrix(lambda_matrix))"
   ]
  },
  {
   "cell_type": "markdown",
   "metadata": {
    "id": "7smf4zifO0Mf"
   },
   "source": [
    "\n",
    "\n",
    "*   Funkcja celu\n",
    "\n"
   ]
  },
  {
   "cell_type": "code",
   "execution_count": 39,
   "metadata": {
    "id": "FMR1Ze6yVwjJ"
   },
   "outputs": [],
   "source": [
    "def f_celu(m):\n",
    "    m = np.array(m).astype(int)  \n",
    "    suma = 0\n",
    "    Q_matrix = get_Q_matrix(m)\n",
    "    ro = [calculate_ro_i(i, m) for i in range(N)]\n",
    "    ro = np.array(ro)\n",
    "    if (np.any(ro >1)):\n",
    "      suma += 10000\n",
    "    m_nzi = (m-m*ro)\n",
    "    for i in range(N):\n",
    "        for r in range(R):\n",
    "            suma = suma + C1[i,r]*Q_matrix[i,r] + C2[i]*m_nzi[i]\n",
    "            \n",
    "    return suma"
   ]
  },
  {
   "cell_type": "code",
   "execution_count": 40,
   "metadata": {
    "colab": {
     "base_uri": "https://localhost:8080/"
    },
    "id": "MOYgSSgEVwjJ",
    "outputId": "bce7313d-1e8f-4182-b5d4-dc742363780a"
   },
   "outputs": [
    {
     "data": {
      "image/png": "[encoded data removed]",
      "text/latex": [
       "$\\displaystyle 10967.848279999993$"
      ],
      "text/plain": [
       "10967.848279999993"
      ]
     },
     "execution_count": 40,
     "metadata": {},
     "output_type": "execute_result"
    }
   ],
   "source": [
    "f_celu(m_pocz)"
   ]
  },
  {
   "cell_type": "code",
   "execution_count": 41,
   "metadata": {},
   "outputs": [],
   "source": [
    "algorithm_param = {'max_num_iteration': 100,\\\n",
    "                   'population_size':50,\\\n",
    "                   'mutation_probability':0.1,\\\n",
    "                   'elit_ratio': 0.01,\\\n",
    "                   'crossover_probability': 0.5,\\\n",
    "                   'parents_portion': 0.3,\\\n",
    "                   'crossover_type':'uniform',\\\n",
    "                   'max_iteration_without_improv':None}"
   ]
  },
  {
   "cell_type": "code",
   "execution_count": 42,
   "metadata": {
    "id": "7yIr4duQVwjK"
   },
   "outputs": [],
   "source": [
    "varbound=np.array([[1,10]]*N)\n",
    "model=ga(function=f_celu,dimension=N,variable_type='int',variable_boundaries=varbound,algorithm_parameters=algorithm_param)"
   ]
  },
  {
   "cell_type": "code",
   "execution_count": 43,
   "metadata": {
    "colab": {
     "base_uri": "https://localhost:8080/",
     "height": 1000
    },
    "id": "h99XfzlyVwjL",
    "outputId": "cb375fd4-98f8-4e2c-b0ba-e249cf6e59f8"
   },
   "outputs": [
    {
     "name": "stdout",
     "output_type": "stream",
     "text": [
      " The best solution found:                                                                           \n",
      " [5. 1. 5. 2. 2. 3.]\n",
      "\n",
      " Objective function:\n",
      " 218.87038\n"
     ]
    },
    {
     "data": {
      "image/png": "[encoded data removed]",
      "text/plain": [
       "<Figure size 432x288 with 1 Axes>"
      ]
     },
     "metadata": {
      "needs_background": "light"
     },
     "output_type": "display_data"
    },
    {
     "name": "stdout",
     "output_type": "stream",
     "text": [
      "Rozwiązanie znalezione w 35 iteracji\n",
      "Rozwiązanie:\n",
      " [5 1 5 2 2 3]\n",
      "\n",
      "Koszt: \n"
     ]
    },
    {
     "data": {
      "image/png": "[encoded data removed]",
      "text/latex": [
       "$\\displaystyle 218.87038$"
      ],
      "text/plain": [
       "218.87038"
      ]
     },
     "metadata": {},
     "output_type": "display_data"
    },
    {
     "name": "stdout",
     "output_type": "stream",
     "text": [
      "\n",
      "Ro matrix:\n"
     ]
    },
    {
     "data": {
      "image/png": "[encoded data removed]",
      "text/latex": [
       "$\\displaystyle \\left[\\begin{matrix}0.0625 & 0.125 & 0.125 & 0.125\\\\0.41667 & 0.0 & 0.0 & 0.0\\\\0.0 & 0.18182 & 0.18182 & 0.18182\\\\0.0 & 0.33333 & 0.0 & 0.0\\\\0.0 & 0.0 & 0.38462 & 0.0\\\\0.0 & 0.0 & 0.0 & 0.30303\\end{matrix}\\right]$"
      ],
      "text/plain": [
       "⎡0.0625    0.125    0.125    0.125 ⎤\n",
       "⎢                                  ⎥\n",
       "⎢0.41667    0.0      0.0      0.0  ⎥\n",
       "⎢                                  ⎥\n",
       "⎢  0.0    0.18182  0.18182  0.18182⎥\n",
       "⎢                                  ⎥\n",
       "⎢  0.0    0.33333    0.0      0.0  ⎥\n",
       "⎢                                  ⎥\n",
       "⎢  0.0      0.0    0.38462    0.0  ⎥\n",
       "⎢                                  ⎥\n",
       "⎣  0.0      0.0      0.0    0.30303⎦"
      ]
     },
     "metadata": {},
     "output_type": "display_data"
    },
    {
     "name": "stdout",
     "output_type": "stream",
     "text": [
      "\n",
      "K matrix:\n"
     ]
    },
    {
     "data": {
      "image/png": "[encoded data removed]",
      "text/latex": [
       "$\\displaystyle \\left[\\begin{matrix}0.32272 & 0.64544 & 0.64544 & 0.64544\\\\1.13097 & 0.0 & 0.0 & 0.0\\\\0.0 & 0.9905 & 0.9905 & 0.9905\\\\0.0 & 0.79166 & 0.0 & 0.0\\\\0.0 & 0.0 & 0.97217 & 0.0\\\\0.0 & 0.0 & 0.0 & 0.94649\\end{matrix}\\right]$"
      ],
      "text/plain": [
       "⎡0.32272  0.64544  0.64544  0.64544⎤\n",
       "⎢                                  ⎥\n",
       "⎢1.13097    0.0      0.0      0.0  ⎥\n",
       "⎢                                  ⎥\n",
       "⎢  0.0    0.9905   0.9905   0.9905 ⎥\n",
       "⎢                                  ⎥\n",
       "⎢  0.0    0.79166    0.0      0.0  ⎥\n",
       "⎢                                  ⎥\n",
       "⎢  0.0      0.0    0.97217    0.0  ⎥\n",
       "⎢                                  ⎥\n",
       "⎣  0.0      0.0      0.0    0.94649⎦"
      ]
     },
     "metadata": {},
     "output_type": "display_data"
    },
    {
     "name": "stdout",
     "output_type": "stream",
     "text": [
      "\n",
      "T matrix:\n"
     ]
    },
    {
     "data": {
      "image/png": "[encoded data removed]",
      "text/latex": [
       "$\\displaystyle \\left[\\begin{matrix}0.00645 & 0.00645 & 0.00645 & 0.00645\\\\0.02262 & 0.0 & 0.0 & 0.0\\\\0.0 & 0.00991 & 0.00991 & 0.00991\\\\0.0 & 0.00792 & 0.0 & 0.0\\\\0.0 & 0.0 & 0.00972 & 0.0\\\\0.0 & 0.0 & 0.0 & 0.00946\\end{matrix}\\right]$"
      ],
      "text/plain": [
       "⎡0.00645  0.00645  0.00645  0.00645⎤\n",
       "⎢                                  ⎥\n",
       "⎢0.02262    0.0      0.0      0.0  ⎥\n",
       "⎢                                  ⎥\n",
       "⎢  0.0    0.00991  0.00991  0.00991⎥\n",
       "⎢                                  ⎥\n",
       "⎢  0.0    0.00792    0.0      0.0  ⎥\n",
       "⎢                                  ⎥\n",
       "⎢  0.0      0.0    0.00972    0.0  ⎥\n",
       "⎢                                  ⎥\n",
       "⎣  0.0      0.0      0.0    0.00946⎦"
      ]
     },
     "metadata": {},
     "output_type": "display_data"
    },
    {
     "name": "stdout",
     "output_type": "stream",
     "text": [
      "\n",
      "W matrix:\n"
     ]
    },
    {
     "data": {
      "image/png": "[encoded data removed]",
      "text/latex": [
       "$\\displaystyle \\left[\\begin{matrix}0.0002 & 0.0002 & 0.0002 & 0.0002\\\\0.01429 & 0.0 & 0.0 & 0.0\\\\0.0 & 0.00082 & 0.00082 & 0.00082\\\\0.0 & 0.00125 & 0.0 & 0.0\\\\0.0 & 0.0 & 0.00203 & 0.0\\\\0.0 & 0.0 & 0.0 & 0.00037\\end{matrix}\\right]$"
      ],
      "text/plain": [
       "⎡0.0002   0.0002   0.0002   0.0002 ⎤\n",
       "⎢                                  ⎥\n",
       "⎢0.01429    0.0      0.0      0.0  ⎥\n",
       "⎢                                  ⎥\n",
       "⎢  0.0    0.00082  0.00082  0.00082⎥\n",
       "⎢                                  ⎥\n",
       "⎢  0.0    0.00125    0.0      0.0  ⎥\n",
       "⎢                                  ⎥\n",
       "⎢  0.0      0.0    0.00203    0.0  ⎥\n",
       "⎢                                  ⎥\n",
       "⎣  0.0      0.0      0.0    0.00037⎦"
      ]
     },
     "metadata": {},
     "output_type": "display_data"
    },
    {
     "name": "stdout",
     "output_type": "stream",
     "text": [
      "\n",
      "Q matrix:\n"
     ]
    },
    {
     "data": {
      "image/png": "[encoded data removed]",
      "text/latex": [
       "$\\displaystyle \\left[\\begin{matrix}0.01 & 0.02 & 0.02 & 0.02\\\\0.7145 & 0.0 & 0.0 & 0.0\\\\0.0 & 0.082 & 0.082 & 0.082\\\\0.0 & 0.125 & 0.0 & 0.0\\\\0.0 & 0.0 & 0.203 & 0.0\\\\0.0 & 0.0 & 0.0 & 0.037\\end{matrix}\\right]$"
      ],
      "text/plain": [
       "⎡ 0.01   0.02   0.02   0.02 ⎤\n",
       "⎢                           ⎥\n",
       "⎢0.7145   0.0    0.0    0.0 ⎥\n",
       "⎢                           ⎥\n",
       "⎢ 0.0    0.082  0.082  0.082⎥\n",
       "⎢                           ⎥\n",
       "⎢ 0.0    0.125   0.0    0.0 ⎥\n",
       "⎢                           ⎥\n",
       "⎢ 0.0     0.0   0.203   0.0 ⎥\n",
       "⎢                           ⎥\n",
       "⎣ 0.0     0.0    0.0   0.037⎦"
      ]
     },
     "metadata": {},
     "output_type": "display_data"
    }
   ],
   "source": [
    "model.run()    \n",
    "report = model.report\n",
    "min_iter = report.index(min(report))\n",
    "print(f\"Rozwiązanie znalezione w {min_iter} iteracji\")\n",
    "\n",
    "opt_solution = model.best_variable\n",
    "cost_val = f_celu(opt_solution)\n",
    "opt_solution = opt_solution.astype(int)\n",
    "\n",
    "print(f\"Rozwiązanie:\\n {opt_solution}\\n\")\n",
    "\n",
    "print(\"Koszt: \")\n",
    "display(cost_val)\n",
    "\n",
    "print(\"\\nRo matrix:\")\n",
    "display(Matrix(get_ro_matrix(opt_solution)))\n",
    "\n",
    "print(\"\\nK matrix:\")\n",
    "display(Matrix(get_K_matrix(opt_solution)))\n",
    "\n",
    "print(\"\\nT matrix:\")\n",
    "display(Matrix(get_T_matrix(opt_solution)))\n",
    "\n",
    "print(\"\\nW matrix:\")\n",
    "display(Matrix(get_W_matrix(opt_solution)))\n",
    "\n",
    "print(\"\\nQ matrix:\")\n",
    "display(Matrix(get_Q_matrix(opt_solution)))"
   ]
  }
 ],
 "metadata": {
  "colab": {
   "name": "Siec_kolejkowa.ipynb",
   "provenance": []
  },
  "kernelspec": {
   "display_name": "Python 3",
   "language": "python",
   "name": "python3"
  },
  "language_info": {
   "codemirror_mode": {
    "name": "ipython",
    "version": 3
   },
   "file_extension": ".py",
   "mimetype": "text/x-python",
   "name": "python",
   "nbconvert_exporter": "python",
   "pygments_lexer": "ipython3",
   "version": "3.7.4"
  }
 },
 "nbformat": 4,
 "nbformat_minor": 1
}
